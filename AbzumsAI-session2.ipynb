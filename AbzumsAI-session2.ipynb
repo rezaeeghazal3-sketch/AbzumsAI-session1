{
 "cells": [
  {
   "cell_type": "markdown",
   "id": "d9bcc2b8",
   "metadata": {},
   "source": [
    "Assignment 2: Control Flow, Loop\n",
    "Course: AbzumsAI Programming 1404\n",
    "\n",
    "Instructor: Mr. Ali Mohammadzadeh Shabestari\n",
    "\n",
    "Date Assigned: June 15, 2025\n",
    "\n",
    "Deadline: June 18, 2025"
   ]
  },
  {
   "cell_type": "markdown",
   "id": "6e9a9d57",
   "metadata": {},
   "source": [
    "Learning Objectives\n",
    "By the end of this notebook, you will:\n",
    "\n",
    "Understand how to control program flow using if, elif, and else statements.\n",
    "\n",
    "Learn how to write nested if statements and apply logical operators (and, or, not).\n",
    "\n",
    "Use for loops to iterate over ranges, lists, strings, and other iterable objects.\n",
    "\n",
    "Use while loops to execute code repeatedly while a condition is true.\n",
    "\n",
    "Apply loop control statements (break and continue) to modify loop behavior.\n",
    "\n"
   ]
  },
  {
   "cell_type": "markdown",
   "id": "bc082db1",
   "metadata": {},
   "source": [
    "# Cell 0: Student Information\n",
    "\n",
    "### Please enter your details for grading purposes:\n",
    "\n",
    "Your Name: Ghazal Rezaee\n",
    "\n",
    "Your Email:rezaeeghazal3@gmail.com\n",
    "\n",
    "Your Gthub Link:https://github.com/rezaeeghazal3-sketch"
   ]
  },
  {
   "cell_type": "markdown",
   "id": "b60f1c78",
   "metadata": {},
   "source": [
    "Cell 1: if, elif, else Control Flow"
   ]
  },
  {
   "cell_type": "markdown",
   "id": "09b5c94a",
   "metadata": {},
   "source": [
    "Write a program that reads a temperature (integer input).\n",
    "\n",
    "If temperature > 30, print \"It's a hot day.\"\n",
    "\n",
    "If temperature > 20, print \"It's a nice day.\"\n",
    "\n",
    "If temperature > 10, print \"It's a bit chilly.\"\n",
    "\n",
    "Otherwise, print \"It's cold outside.\""
   ]
  },
  {
   "cell_type": "code",
   "execution_count": null,
   "id": "23744f8c",
   "metadata": {},
   "outputs": [],
   "source": [
    "# write your code here\n",
    "temperature = int(input(\"Enter the temperature (integer): \"))\n",
    "\n",
    "if temperature > 30:\n",
    "    print(\"It's a hot day.\")\n",
    "elif temperature > 20:\n",
    "    print(\"It's a nice day.\")\n",
    "elif temperature > 10:\n",
    "    print(\"It's a bit chilly.\")\n",
    "else:\n",
    "    print(\"It's cold outside.\")"
   ]
  },
  {
   "cell_type": "markdown",
   "id": "60e5a456",
   "metadata": {},
   "source": [
    "Cell 2: Nested if statements\n"
   ]
  },
  {
   "cell_type": "markdown",
   "id": "86b9f19e",
   "metadata": {},
   "source": [
    "Check concert eligibility.\n",
    "\n",
    "Read user's age (integer input) and whether they have a ticket (boolean input: True/False).\n",
    "\n",
    "If the user is 18 or older AND has a ticket, print \"You can enter the concert.\"\n",
    "\n",
    "If the user is 18 or older BUT doesn't have a ticket, print \"You need a ticket to enter.\"\n",
    "\n",
    "Otherwise, print \"You are too young for the concert.\""
   ]
  },
  {
   "cell_type": "code",
   "execution_count": null,
   "id": "34be97ed",
   "metadata": {},
   "outputs": [],
   "source": [
    "# write your code here\n",
    "age = int(input(\"Enter your age: \"))\n",
    "\n",
    "# Input for ticket status as a string; convert to boolean\n",
    "ticket_input = input(\"Do you have a ticket? (True/False): \")\n",
    "# Normalize input to lowercase for flexibility\n",
    "ticket_input = ticket_input.strip().lower()\n",
    "has_ticket = True if ticket_input == 'true' else False\n",
    "\n",
    "if age >= 18:\n",
    "    if has_ticket:\n",
    "        print(\"You can enter the concert.\")\n",
    "    else:\n",
    "        print(\"You need a ticket to enter.\")\n",
    "else:\n",
    "    print(\"You are too young for the concert.\")\n"
   ]
  },
  {
   "cell_type": "markdown",
   "id": "2df49f77",
   "metadata": {},
   "source": [
    "## Cell 3: Iterating over collections"
   ]
  },
  {
   "cell_type": "markdown",
   "id": "fe3ac152",
   "metadata": {},
   "source": [
    "Create a list of 5 fruits.\n",
    "\n",
    "Use a for loop to print \"I like [fruit]\" for each fruit in the list.\n",
    "\n",
    "Then iterate over the string \"Python\" and print each letter on a separate line."
   ]
  },
  {
   "cell_type": "code",
   "execution_count": null,
   "id": "d3c5e8bb",
   "metadata": {},
   "outputs": [],
   "source": [
    "# write your code here\n",
    "fruits = [\"apple\", \"banana\", \"orange\", \"grape\", \"kiwi\"]\n",
    "\n",
    "for fruit in fruits:\n",
    "    print(f\"I like {fruit}\")\n",
    "\n",
    "for letter in \"Python\":\n",
    "    print(letter)"
   ]
  },
  {
   "cell_type": "markdown",
   "id": "7a9ee851",
   "metadata": {},
   "source": [
    "## Cell 4: Input for loop with range()"
   ]
  },
  {
   "cell_type": "markdown",
   "id": "bf0220d9",
   "metadata": {},
   "source": [
    "Use a for loop to:\n",
    "\n",
    "a) Print numbers from 1 to 10.\n",
    "\n",
    "b) Calculate and print the sum of numbers from 1 to 10."
   ]
  },
  {
   "cell_type": "code",
   "execution_count": null,
   "id": "f4255b85",
   "metadata": {},
   "outputs": [],
   "source": [
    "# write your code here\n",
    "# a) Print numbers from 1 to 10\n",
    "for number in range(1, 11):\n",
    "    print(number)\n",
    "\n",
    "# b) Calculate and print sum of numbers from 1 to 10\n",
    "total_sum = 0\n",
    "for number in range(1, 11):\n",
    "    total_sum += number\n",
    "print(f\"Sum of numbers from 1 to 10 is: {total_sum}\")\n"
   ]
  },
  {
   "cell_type": "markdown",
   "id": "fe210e58",
   "metadata": {},
   "source": [
    "## Cell 5: while loops and loop control (break, continue)"
   ]
  },
  {
   "cell_type": "markdown",
   "id": "e2ff6b31",
   "metadata": {},
   "source": [
    "Use a while loop to count from 1 upwards.\n",
    "\n",
    "If count reaches 3, skip printing (use continue).\n",
    "\n",
    "If count reaches 7, stop the loop (use break).\n",
    "\n",
    "Otherwise, print the current count."
   ]
  },
  {
   "cell_type": "code",
   "execution_count": null,
   "id": "1963aa95",
   "metadata": {},
   "outputs": [],
   "source": [
    "count = 1\n",
    "while True:\n",
    "    if count == 3:\n",
    "        count += 1  # Increase count before continue to avoid infinite loop\n",
    "        continue   # Skip printing when count == 3\n",
    "    if count == 7:\n",
    "        break     # Exit the loop when count == 7\n",
    "    print(count)\n",
    "    count += 1"
   ]
  }
 ],
 "metadata": {
  "kernelspec": {
   "display_name": "Python 3",
   "language": "python",
   "name": "python3"
  },
  "language_info": {
   "codemirror_mode": {
    "name": "ipython",
    "version": 3
   },
   "file_extension": ".py",
   "mimetype": "text/x-python",
   "name": "python",
   "nbconvert_exporter": "python",
   "pygments_lexer": "ipython3",
   "version": "3.13.5"
  }
 },
 "nbformat": 4,
 "nbformat_minor": 5
}
